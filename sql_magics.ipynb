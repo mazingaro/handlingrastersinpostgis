{
 "cells": [
  {
   "cell_type": "code",
   "execution_count": 5,
   "metadata": {},
   "outputs": [],
   "source": [
    "# https://stackoverflow.com/questions/33508377/read-cell-content-in-an-ipython-notebook\n",
    "#https://gist.github.com/Carreau/02e754e4948efdccf048\n",
    "\n",
    "from IPython.core.magic import  (\n",
    "    Magics, magics_class, cell_magic, line_magic\n",
    ")\n",
    "\n",
    "class B(dict):\n",
    "    def __getattr__(self, name):\n",
    "        return self.__getitem__(name)\n",
    "\n",
    "@magics_class\n",
    "class StoreSQL(Magics):\n",
    "\n",
    "    \n",
    "    def __init__(self, shell=None,  **kwargs):\n",
    "        super().__init__(shell=shell, **kwargs)\n",
    "        self._store = []\n",
    "        self._store2 = B()\n",
    "        # inject our store in user availlable namespace under __mystore\n",
    "        # name\n",
    "        shell.user_ns['__mystore'] = self._store\n",
    "        shell.user_ns['__mystore2'] = self._store2\n",
    "\n",
    "    @cell_magic\n",
    "    def sql(self, line, cell):\n",
    "        \"\"\"store the cell in the store\"\"\"\n",
    "        self._store.append(cell)\n",
    "        !psql -h localhost -U user -d giws -c \"{cell}\"\n",
    "\n",
    "    @cell_magic\n",
    "    def sqlnamed(self, line, cell):\n",
    "        \"\"\"store the cell in the store\"\"\"\n",
    "        self._store2[line.strip()] = cell\n",
    "\n",
    "        \n",
    "    @line_magic\n",
    "    def showsql(self, line):\n",
    "        \"\"\"show all recorded statements\"\"\"\n",
    "        print(self._store)\n",
    "        print(self._store2)\n",
    "                \n",
    "## use ipython load_ext mechanisme here if distributed\n",
    "get_ipython().register_magics(StoreSQL)"
   ]
  }
 ],
 "metadata": {
  "kernelspec": {
   "display_name": "Python 3",
   "language": "python",
   "name": "python3"
  },
  "language_info": {
   "codemirror_mode": {
    "name": "ipython",
    "version": 3
   },
   "file_extension": ".py",
   "mimetype": "text/x-python",
   "name": "python",
   "nbconvert_exporter": "python",
   "pygments_lexer": "ipython3",
   "version": "3.5.2"
  }
 },
 "nbformat": 4,
 "nbformat_minor": 2
}
