{
 "cells": [
  {
   "cell_type": "markdown",
   "metadata": {},
   "source": [
    "Creates the example for poc."
   ]
  },
  {
   "cell_type": "code",
   "execution_count": 15,
   "metadata": {},
   "outputs": [],
   "source": [
    "%run sql_magics.ipynb"
   ]
  },
  {
   "cell_type": "code",
   "execution_count": 16,
   "metadata": {},
   "outputs": [
    {
     "name": "stdout",
     "output_type": "stream",
     "text": [
      "CREATE FUNCTION\r\n"
     ]
    }
   ],
   "source": [
    "%run plpgsql_helpers.ipynb"
   ]
  },
  {
   "cell_type": "code",
   "execution_count": 17,
   "metadata": {},
   "outputs": [
    {
     "name": "stdout",
     "output_type": "stream",
     "text": [
      "NOTICE:  drop cascades to 2 other objects\n",
      "DETAIL:  drop cascades to view patch1_pixels\n",
      "drop cascades to view patch1_tiles\n",
      "NOTICE:  drop cascades to 2 other objects\n",
      "DETAIL:  drop cascades to view patch2_pixels\n",
      "drop cascades to view patch2_tiles\n",
      "DROP TABLE\n"
     ]
    }
   ],
   "source": [
    "%%sql\n",
    "\n",
    "DROP TABLE IF EXISTS patch1 CASCADE;\n",
    "DROP TABLE IF EXISTS patch2 CASCADE;"
   ]
  },
  {
   "cell_type": "code",
   "execution_count": 18,
   "metadata": {},
   "outputs": [
    {
     "name": "stdout",
     "output_type": "stream",
     "text": [
      "NOTICE:  Adding SRID constraint\n",
      "NOTICE:  Adding scale-X constraint\n",
      "NOTICE:  Adding scale-Y constraint\n",
      "NOTICE:  Adding blocksize-X constraint\n",
      "NOTICE:  Adding blocksize-Y constraint\n",
      "NOTICE:  Adding alignment constraint\n",
      "NOTICE:  Adding number of bands constraint\n",
      "NOTICE:  Adding pixel type constraint\n",
      "NOTICE:  Adding nodata value constraint\n",
      "NOTICE:  Adding out-of-database constraint\n",
      "NOTICE:  Adding maximum extent constraint\n",
      "NOTICE:  Adding SRID constraint\n",
      "NOTICE:  Adding scale-X constraint\n",
      "NOTICE:  Adding scale-Y constraint\n",
      "NOTICE:  Adding blocksize-X constraint\n",
      "NOTICE:  Adding blocksize-Y constraint\n",
      "NOTICE:  Adding alignment constraint\n",
      "NOTICE:  Adding number of bands constraint\n",
      "NOTICE:  Adding pixel type constraint\n",
      "NOTICE:  Adding nodata value constraint\n",
      "NOTICE:  Adding out-of-database constraint\n",
      "NOTICE:  Adding maximum extent constraint\n",
      " visualize_tiles_and_pixels \n",
      "----------------------------\n",
      " \n",
      "(1 row)\n",
      "\n"
     ]
    }
   ],
   "source": [
    "%%sql\n",
    "\n",
    "CREATE TABLE patch1(\n",
    "    rid SERIAL primary key,\n",
    "    rast raster\n",
    ");\n",
    "\n",
    "-- insert empty raster into the base_raster table\n",
    "\n",
    "INSERT INTO patch1(rast)\n",
    "SELECT ST_AddBand( -- Returns a raster with the new band(s) of given type\n",
    "  ST_MakeEmptyRaster( -- Returns an empty raster (having no bands)\n",
    "      4, -- Raster width x (in pixels)\n",
    "      4, -- Raster width y (in pixels)\n",
    "      1.5, -- Upper left X coordinate\n",
    "      -1.5, -- Upper left Y coordinate\n",
    "      1, -- X Cell Resolution (in SRID units - in this case meters)\n",
    "      -1, -- Y Cell Resolution (in SRID units - in this case meters)\n",
    "      0, -- X skew\n",
    "      0, -- Y skew\n",
    "      3794 -- SRID\n",
    "    ),\n",
    "    \n",
    "    ARRAY [\n",
    "      ROW(\n",
    "        1,  -- band index\n",
    "        '8BUI'::text,  -- 8BUI - 8-bit unsigned integer (https://postgis.net/docs/RT_ST_BandPixelType.html)\n",
    "        3,  -- initial pixel value\n",
    "        0  -- NODATA value\n",
    "      )\n",
    "    ]::addbandarg[] -- a composite type used as input into the ST_AddBand function (https://postgis.net/docs/addbandarg.html)\n",
    ");\n",
    "\n",
    "SELECT AddRasterConstraints('patch1'::name, 'rast'::name);\n",
    "\n",
    "CREATE TABLE patch2(\n",
    "    rid SERIAL primary key,\n",
    "    rast raster\n",
    ");\n",
    "\n",
    "-- insert empty raster into the base_raster table\n",
    "\n",
    "INSERT INTO patch2(rast)\n",
    "SELECT ST_AddBand( -- Returns a raster with the new band(s) of given type\n",
    "  ST_MakeEmptyRaster( -- Returns an empty raster (having no bands)\n",
    "      4, -- Raster width x (in pixels)\n",
    "      4, -- Raster width y (in pixels)\n",
    "      3.5, -- Upper left X coordinate\n",
    "      -3.5, -- Upper left Y coordinate\n",
    "      1, -- X Cell Resolution (in SRID units - in this case meters)\n",
    "      -1, -- Y Cell Resolution (in SRID units - in this case meters)\n",
    "      0, -- X skew\n",
    "      0, -- Y skew\n",
    "      3794 -- SRID\n",
    "    ),\n",
    "    \n",
    "    ARRAY [\n",
    "      ROW(\n",
    "        1,  -- band index\n",
    "        '8BUI'::text,  -- 8BUI - 8-bit unsigned integer (https://postgis.net/docs/RT_ST_BandPixelType.html)\n",
    "        3,  -- initial pixel value\n",
    "        0  -- NODATA value\n",
    "      )\n",
    "    ]::addbandarg[] -- a composite type used as input into the ST_AddBand function (https://postgis.net/docs/addbandarg.html)\n",
    ");\n",
    "\n",
    "SELECT AddRasterConstraints('patch2'::name, 'rast'::name);\n",
    "\n",
    "CREATE OR REPLACE FUNCTION myarray(_offset integer)\n",
    "  RETURNS double precision[][] AS\n",
    "\\$func\\$\n",
    "DECLARE\n",
    "    a double precision[][][4][4] := array_fill(0, ARRAY[4,4]);\n",
    "BEGIN\n",
    "\tFOR i IN 1..4 LOOP\n",
    "\t\tFOR j IN 1..4 LOOP\n",
    "\t\t\ta[i][j]= _offset + (i-1)*4 + j;\n",
    "\t\tEND LOOP;\n",
    "\tEND LOOP;\n",
    "   RETURN a;\n",
    "END\n",
    "\\$func\\$  LANGUAGE plpgsql;\n",
    "\n",
    "\n",
    "UPDATE patch1\n",
    "SET rast = ST_SetValues(rast,1,1,1,myarray(0));\n",
    "\n",
    "UPDATE patch2\n",
    "SET rast = ST_SetValues(rast,1,1,1,myarray(100));\n",
    "\n",
    "UPDATE patch2\n",
    "SET rast = ST_SetValue(rast, 1, 1, 0);\n",
    "\n",
    "UPDATE patch2\n",
    "SET rast = ST_SetBandNoDataValue(rast, 0);\n",
    "\n",
    "SELECT visualize_tiles_and_pixels('patch1');\n",
    "SELECT visualize_tiles_and_pixels('patch2');"
   ]
  }
 ],
 "metadata": {
  "kernelspec": {
   "display_name": "Python 3",
   "language": "python",
   "name": "python3"
  },
  "language_info": {
   "codemirror_mode": {
    "name": "ipython",
    "version": 3
   },
   "file_extension": ".py",
   "mimetype": "text/x-python",
   "name": "python",
   "nbconvert_exporter": "python",
   "pygments_lexer": "ipython3",
   "version": "3.5.2"
  }
 },
 "nbformat": 4,
 "nbformat_minor": 2
}
