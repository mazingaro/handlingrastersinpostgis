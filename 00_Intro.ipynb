{
 "cells": [
  {
   "cell_type": "markdown",
   "metadata": {},
   "source": [
    "# Handling raster data in PostGIS\n",
    "\n",
    "For storing and analyzing raster data there is a `raster` data type in PostGIS. *The goal of PostGIS Raster is to implement the `raster` type as much as possible like the `geometry` type is implemented in PostGIS and to offer a single set of overlay SQL functions (like ST_Intersects) operating seamlessly on vector and raster coverages.* -- PostGIS Raster Home Page https://trac.osgeo.org/postgis/wiki/WKTRaster\n",
    "\n",
    "## Prerequisites\n",
    "\n",
    "The workshop is *exclusively* for the OSGeo Live USB 13: but we encourage *heroes* to set-up everything from scratch\n",
    "\n",
    "The main purpose of this workshop is to present the PostGIS raster functionalities and the software and libraries that can be used to read PostGIS rasters and write them as well\n",
    "\n",
    "Heroes, install minimally:\n",
    "1. PostgreSQL 10+,\n",
    "2. PostGIS 2.1+,\n",
    "3. Jupyter,\n",
    "3. QGIS 3.4* and, additionaly,\n",
    "3. R, RStudio, SAGA GIS and OTB are used as an exanmple, but no need to complicate.\n",
    "\n",
    "## Setting-up the workspace (everyone)\n",
    "1. Create a new user (in the workshop we are using superuser 'user' with password 'user').\n",
    "\n",
    "`sudo -u postgres createuser --interactive --pwprompt`\n",
    "\n",
    "2. Create the database `giws`:\n",
    "\n",
    "`createdb -U user -h localhost giws`\n",
    "\n",
    "3. The database has to have a PostGIS extension enabled, so add the PostGIS extension\n",
    "\n",
    "`psql -U user -h localhost -d giws -c \"CREATE EXTENSION postgis;\"`\n",
    "\n",
    "\n",
    "## What are we going to learn?\n",
    "\n",
    "- how are rasters stored in a PostGIS Raster table\n",
    "- importing rasters into PostGIS\n",
    "- creating rasters from scratch\n",
    "- raster tiling and indexing\n",
    "- processing rasters\n",
    "- analyzing rasters\n",
    "- exporting rasters\n",
    "- serving rasters\n",
    "- using raster in different environments\n",
    "\n"
   ]
  },
  {
   "cell_type": "code",
   "execution_count": null,
   "metadata": {},
   "outputs": [],
   "source": []
  }
 ],
 "metadata": {
  "kernelspec": {
   "display_name": "Python 3",
   "language": "python",
   "name": "python3"
  },
  "language_info": {
   "codemirror_mode": {
    "name": "ipython",
    "version": 3
   },
   "file_extension": ".py",
   "mimetype": "text/x-python",
   "name": "python",
   "nbconvert_exporter": "python",
   "pygments_lexer": "ipython3",
   "version": "3.6.8"
  }
 },
 "nbformat": 4,
 "nbformat_minor": 2
}
