{
 "cells": [
  {
   "cell_type": "markdown",
   "metadata": {},
   "source": [
    "There is plethora of Postgis Raster functions for exporting the raster (https://postgis.net/docs/RT_reference.html#Raster_Outputs):\n",
    "\n",
    "- ST_AsBinary/ST_AsWKB — Return the Well-Known Binary (WKB) representation of the raster.\n",
    "\n",
    "- ST_AsHexWKB — Return the Well-Known Binary (WKB) in Hex representation of the raster.\n",
    "\n",
    "- ST_AsGDALRaster — Return the raster tile in the designated GDAL Raster format. Raster formats are one of those supported by your compiled library. Use ST_GDALDrivers() to get a list of formats supported by your library.\n",
    "\n",
    "- ST_AsJPEG — Return the raster tile selected bands as a single Joint Photographic Exports Group (JPEG) image (byte array). If no band is specified and 1 or more than 3 bands, then only the first band is used. If only 3 bands then all 3 bands are used and mapped to RGB.\n",
    "\n",
    "- ST_AsPNG — Return the raster tile selected bands as a single portable network graphics (PNG) image (byte array). If 1, 3, or 4 bands in raster and no bands are specified, then all bands are used. If more 2 or more than 4 bands and no bands specified, then only band 1 is used. Bands are mapped to RGB or RGBA space.\n",
    "\n",
    "- ST_AsTIFF — Return the raster selected bands as a single TIFF image (byte array). If no band is specified or any of specified bands does not exist in the raster, then will try to use all bands.\n",
    "\n",
    "It's worth noting that these function just output the raster in the specified format - they do not save it to the disk. We can save the raster to disk using `gdal_translate`.\n",
    "\n",
    "\n",
    "## Export with GDAL"
   ]
  },
  {
   "cell_type": "code",
   "execution_count": 5,
   "metadata": {},
   "outputs": [
    {
     "name": "stdout",
     "output_type": "stream",
     "text": [
      "Warning 1: Cannot find (valid) information about public.dtm table in raster_columns view. The raster table load would take a lot of time. Please, execute AddRasterConstraints PostGIS function to register this table as raster table in raster_columns view. This will save a lot of time.\r\n",
      "Input file size is 12, 8\r\n",
      "0...10...20...30...40...50...60...70...80...90...100 - done.\r\n"
     ]
    }
   ],
   "source": [
    "!gdal_translate -co COMPRESS=DEFLATE -co ZLEVEL=9 PG:\"host=localhost port=5432 dbname=giws user=user password=user schema=public table=dtm mode=2\" dtm.tiff"
   ]
  },
  {
   "cell_type": "markdown",
   "metadata": {},
   "source": [
    "We use mode=2 option if we export a tiled raster: https://gdal.org/drivers/raster/postgisraster.html"
   ]
  },
  {
   "cell_type": "code",
   "execution_count": 2,
   "metadata": {},
   "outputs": [],
   "source": [
    "%run sql_magics.ipynb"
   ]
  },
  {
   "cell_type": "code",
   "execution_count": 8,
   "metadata": {},
   "outputs": [
    {
     "name": "stdout",
     "output_type": "stream",
     "text": [
      "NOTICE:  Adding SRID constraint\r\n",
      "NOTICE:  The constraint \"enforce_srid_rast\" already exists.  To replace the existing constraint, delete the constraint and call ApplyRasterConstraints again\r\n",
      "NOTICE:  Adding scale-X constraint\r\n",
      "NOTICE:  The constraint \"enforce_scalex_rast\" already exists.  To replace the existing constraint, delete the constraint and call ApplyRasterConstraints again\r\n",
      "NOTICE:  Adding scale-Y constraint\r\n",
      "NOTICE:  The constraint \"enforce_scaley_rast\" already exists.  To replace the existing constraint, delete the constraint and call ApplyRasterConstraints again\r\n",
      "NOTICE:  Adding blocksize-X constraint\r\n",
      "NOTICE:  The constraint \"enforce_width_rast\" already exists.  To replace the existing constraint, delete the constraint and call ApplyRasterConstraints again\r\n",
      "NOTICE:  Adding blocksize-Y constraint\r\n",
      "NOTICE:  The constraint \"enforce_height_rast\" already exists.  To replace the existing constraint, delete the constraint and call ApplyRasterConstraints again\r\n",
      "NOTICE:  Adding alignment constraint\r\n",
      "NOTICE:  The constraint \"enforce_same_alignment_rast\" already exists.  To replace the existing constraint, delete the constraint and call ApplyRasterConstraints again\r\n",
      "NOTICE:  Adding number of bands constraint\r\n",
      "NOTICE:  The constraint \"enforce_num_bands_rast\" already exists.  To replace the existing constraint, delete the constraint and call ApplyRasterConstraints again\r\n",
      "NOTICE:  Adding pixel type constraint\r\n",
      "NOTICE:  The constraint \"enforce_pixel_types_rast\" already exists.  To replace the existing constraint, delete the constraint and call ApplyRasterConstraints again\r\n",
      "NOTICE:  Adding nodata value constraint\r\n",
      "NOTICE:  The constraint \"enforce_nodata_values_rast\" already exists.  To replace the existing constraint, delete the constraint and call ApplyRasterConstraints again\r\n",
      "NOTICE:  Adding out-of-database constraint\r\n",
      "NOTICE:  The constraint \"enforce_out_db_rast\" already exists.  To replace the existing constraint, delete the constraint and call ApplyRasterConstraints again\r\n",
      "NOTICE:  Adding maximum extent constraint\r\n",
      "NOTICE:  The constraint \"enforce_max_extent_rast\" already exists.  To replace the existing constraint, delete the constraint and call ApplyRasterConstraints again\r\n",
      " addrasterconstraints \r\n",
      "----------------------\r\n",
      " t\r\n",
      "(1 row)\r\n",
      "\r\n"
     ]
    }
   ],
   "source": [
    "%%sql\n",
    "------\n",
    "-- you can get this warning when exporting:\n",
    "--    Warning 1: Cannot find (valid) information about public.dtm table in raster_columns view. The raster table load would take a lot of time. Please, execute AddRasterConstraints PostGIS function to register this table as raster table in raster_columns view. This will save a lot of time.\n",
    "------\n",
    "SELECT AddRasterConstraints('dtm'::name, 'rast'::name);"
   ]
  },
  {
   "cell_type": "markdown",
   "metadata": {},
   "source": [
    "Another option for export is from the SQL, but this is considered a bit of a hack\n",
    "-- https://postgis.net/docs/using_raster_dataman.html#RasterOutput_PSQL\n",
    "\n",
    "There are also several other options of export involving high level programming languages connecting to database and using raster output functions (https://postgis.net/docs/using_raster_dataman.html#RT_Raster_Applications)"
   ]
  },
  {
   "cell_type": "markdown",
   "metadata": {},
   "source": [
    "Last but not least, raster data can be published as a web service:\n",
    "- with MapServer https://postgis.net/docs/RT_FAQ.html#idm29185\n",
    "- https://github.com/lcalisto/workshop-postgis-raster/blob/master/doc/geoserver.md"
   ]
  }
 ],
 "metadata": {
  "kernelspec": {
   "display_name": "Python 3",
   "language": "python",
   "name": "python3"
  },
  "language_info": {
   "codemirror_mode": {
    "name": "ipython",
    "version": 3
   },
   "file_extension": ".py",
   "mimetype": "text/x-python",
   "name": "python",
   "nbconvert_exporter": "python",
   "pygments_lexer": "ipython3",
   "version": "3.6.8"
  }
 },
 "nbformat": 4,
 "nbformat_minor": 2
}
