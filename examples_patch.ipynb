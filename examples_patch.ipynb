{
 "cells": [
  {
   "cell_type": "markdown",
   "metadata": {},
   "source": [
    "Creates the example for poc."
   ]
  },
  {
   "cell_type": "code",
   "execution_count": 1,
   "metadata": {},
   "outputs": [],
   "source": [
    "%run sql_magics.ipynb"
   ]
  },
  {
   "cell_type": "code",
   "execution_count": 2,
   "metadata": {},
   "outputs": [
    {
     "name": "stdout",
     "output_type": "stream",
     "text": [
      "CREATE FUNCTION\r\n"
     ]
    }
   ],
   "source": [
    "%run plpgsql_helpers.ipynb"
   ]
  },
  {
   "cell_type": "code",
   "execution_count": 3,
   "metadata": {},
   "outputs": [
    {
     "name": "stdout",
     "output_type": "stream",
     "text": [
      "NOTICE:  Adding SRID constraint\n",
      "NOTICE:  Adding scale-X constraint\n",
      "NOTICE:  Adding scale-Y constraint\n",
      "NOTICE:  Adding blocksize-X constraint\n",
      "NOTICE:  Adding blocksize-Y constraint\n",
      "NOTICE:  Adding alignment constraint\n",
      "NOTICE:  Adding number of bands constraint\n",
      "NOTICE:  Adding pixel type constraint\n",
      "NOTICE:  Adding nodata value constraint\n",
      "NOTICE:  Adding out-of-database constraint\n",
      "NOTICE:  Adding maximum extent constraint\n",
      " addrasterconstraints \n",
      "----------------------\n",
      " t\n",
      "(1 row)\n",
      "\n"
     ]
    }
   ],
   "source": [
    "%%sql\n",
    "DROP TABLE IF EXISTS base_raster;\n",
    "\n",
    "CREATE TABLE base_raster(\n",
    "    rid SERIAL primary key,\n",
    "    rast raster\n",
    ");\n",
    "\n",
    "-- insert empty raster into the base_raster table\n",
    "\n",
    "INSERT INTO base_raster(rast)\n",
    "SELECT ST_AddBand( -- Returns a raster with the new band(s) of given type\n",
    "  ST_MakeEmptyRaster( -- Returns an empty raster (having no bands)\n",
    "      12, -- Raster width x (in pixels)\n",
    "      8, -- Raster height y (in pixels)\n",
    "      0, -- Upper left X coordinate\n",
    "      0, -- Upper left Y coordinate\n",
    "      1, -- X Cell Resolution (in SRID units - in this case meters)\n",
    "      -1, -- Y Cell Resolution (in SRID units - in this case meters)\n",
    "      0, -- X skew\n",
    "      0, -- Y skew\n",
    "      3794 -- SRID\n",
    "    ),\n",
    "    \n",
    "    ARRAY [\n",
    "      ROW(\n",
    "        1,  -- band index\n",
    "        '8BUI'::text,  -- 8BUI - 8-bit unsigned integer (https://postgis.net/docs/RT_ST_BandPixelType.html)\n",
    "        3,  -- initial pixel value\n",
    "        0  -- NODATA value\n",
    "      )\n",
    "    ]::addbandarg[] -- a composite type used as input into the ST_AddBand function (https://postgis.net/docs/addbandarg.html)\n",
    ");\n",
    "\n",
    "SELECT AddRasterConstraints('base_raster'::name, 'rast'::name);"
   ]
  },
  {
   "cell_type": "markdown",
   "metadata": {},
   "source": [
    "https://postgis.net/2014/09/26/tip_count_of_pixel_values/"
   ]
  },
  {
   "cell_type": "code",
   "execution_count": 4,
   "metadata": {},
   "outputs": [
    {
     "name": "stdout",
     "output_type": "stream",
     "text": [
      " x  | y | val |                   geom                   \r\n",
      "----+---+-----+------------------------------------------\r\n",
      "  1 | 1 |   1 | POLYGON((0 0,1 0,1 -1,0 -1,0 0))\r\n",
      "  2 | 1 |   2 | POLYGON((1 0,2 0,2 -1,1 -1,1 0))\r\n",
      "  3 | 1 |   3 | POLYGON((2 0,3 0,3 -1,2 -1,2 0))\r\n",
      "  4 | 1 |   4 | POLYGON((3 0,4 0,4 -1,3 -1,3 0))\r\n",
      "  5 | 1 |   5 | POLYGON((4 0,5 0,5 -1,4 -1,4 0))\r\n",
      "  6 | 1 |   6 | POLYGON((5 0,6 0,6 -1,5 -1,5 0))\r\n",
      "  7 | 1 |   7 | POLYGON((6 0,7 0,7 -1,6 -1,6 0))\r\n",
      "  8 | 1 |   8 | POLYGON((7 0,8 0,8 -1,7 -1,7 0))\r\n",
      "  9 | 1 |   9 | POLYGON((8 0,9 0,9 -1,8 -1,8 0))\r\n",
      " 10 | 1 |  10 | POLYGON((9 0,10 0,10 -1,9 -1,9 0))\r\n",
      " 11 | 1 |  11 | POLYGON((10 0,11 0,11 -1,10 -1,10 0))\r\n",
      " 12 | 1 |  12 | POLYGON((11 0,12 0,12 -1,11 -1,11 0))\r\n",
      "  1 | 2 |  13 | POLYGON((0 -1,1 -1,1 -2,0 -2,0 -1))\r\n",
      "  2 | 2 |  14 | POLYGON((1 -1,2 -1,2 -2,1 -2,1 -1))\r\n",
      "  3 | 2 |  15 | POLYGON((2 -1,3 -1,3 -2,2 -2,2 -1))\r\n",
      "  4 | 2 |  16 | POLYGON((3 -1,4 -1,4 -2,3 -2,3 -1))\r\n",
      "  5 | 2 |  17 | POLYGON((4 -1,5 -1,5 -2,4 -2,4 -1))\r\n",
      "  6 | 2 |  18 | POLYGON((5 -1,6 -1,6 -2,5 -2,5 -1))\r\n",
      "  7 | 2 |  19 | POLYGON((6 -1,7 -1,7 -2,6 -2,6 -1))\r\n",
      "  8 | 2 |  20 | POLYGON((7 -1,8 -1,8 -2,7 -2,7 -1))\r\n",
      "  9 | 2 |  21 | POLYGON((8 -1,9 -1,9 -2,8 -2,8 -1))\r\n",
      " 10 | 2 |  22 | POLYGON((9 -1,10 -1,10 -2,9 -2,9 -1))\r\n",
      " 11 | 2 |  23 | POLYGON((10 -1,11 -1,11 -2,10 -2,10 -1))\r\n",
      " 12 | 2 |  24 | POLYGON((11 -1,12 -1,12 -2,11 -2,11 -1))\r\n",
      "  1 | 3 |  25 | POLYGON((0 -2,1 -2,1 -3,0 -3,0 -2))\r\n",
      "  2 | 3 |  26 | POLYGON((1 -2,2 -2,2 -3,1 -3,1 -2))\r\n",
      "  3 | 3 |  27 | POLYGON((2 -2,3 -2,3 -3,2 -3,2 -2))\r\n",
      "  4 | 3 |  28 | POLYGON((3 -2,4 -2,4 -3,3 -3,3 -2))\r\n",
      "  5 | 3 |  29 | POLYGON((4 -2,5 -2,5 -3,4 -3,4 -2))\r\n",
      "  6 | 3 |  30 | POLYGON((5 -2,6 -2,6 -3,5 -3,5 -2))\r\n",
      "  7 | 3 |  31 | POLYGON((6 -2,7 -2,7 -3,6 -3,6 -2))\r\n",
      "  8 | 3 |  32 | POLYGON((7 -2,8 -2,8 -3,7 -3,7 -2))\r\n",
      "  9 | 3 |  33 | POLYGON((8 -2,9 -2,9 -3,8 -3,8 -2))\r\n",
      " 10 | 3 |  34 | POLYGON((9 -2,10 -2,10 -3,9 -3,9 -2))\r\n",
      " 11 | 3 |  35 | POLYGON((10 -2,11 -2,11 -3,10 -3,10 -2))\r\n",
      " 12 | 3 |  36 | POLYGON((11 -2,12 -2,12 -3,11 -3,11 -2))\r\n",
      "  1 | 4 |  37 | POLYGON((0 -3,1 -3,1 -4,0 -4,0 -3))\r\n",
      "  2 | 4 |  38 | POLYGON((1 -3,2 -3,2 -4,1 -4,1 -3))\r\n",
      "  3 | 4 |  39 | POLYGON((2 -3,3 -3,3 -4,2 -4,2 -3))\r\n",
      "  4 | 4 |  40 | POLYGON((3 -3,4 -3,4 -4,3 -4,3 -3))\r\n",
      "  5 | 4 |  41 | POLYGON((4 -3,5 -3,5 -4,4 -4,4 -3))\r\n",
      "  6 | 4 |  42 | POLYGON((5 -3,6 -3,6 -4,5 -4,5 -3))\r\n",
      "  7 | 4 |  43 | POLYGON((6 -3,7 -3,7 -4,6 -4,6 -3))\r\n",
      "  8 | 4 |  44 | POLYGON((7 -3,8 -3,8 -4,7 -4,7 -3))\r\n",
      "  9 | 4 |  45 | POLYGON((8 -3,9 -3,9 -4,8 -4,8 -3))\r\n",
      " 10 | 4 |  46 | POLYGON((9 -3,10 -3,10 -4,9 -4,9 -3))\r\n",
      " 11 | 4 |  47 | POLYGON((10 -3,11 -3,11 -4,10 -4,10 -3))\r\n",
      " 12 | 4 |  48 | POLYGON((11 -3,12 -3,12 -4,11 -4,11 -3))\r\n",
      "  1 | 5 |  49 | POLYGON((0 -4,1 -4,1 -5,0 -5,0 -4))\r\n",
      "  2 | 5 |  50 | POLYGON((1 -4,2 -4,2 -5,1 -5,1 -4))\r\n",
      "  3 | 5 |  51 | POLYGON((2 -4,3 -4,3 -5,2 -5,2 -4))\r\n",
      "  4 | 5 |  52 | POLYGON((3 -4,4 -4,4 -5,3 -5,3 -4))\r\n",
      "  5 | 5 |  53 | POLYGON((4 -4,5 -4,5 -5,4 -5,4 -4))\r\n",
      "  6 | 5 |  54 | POLYGON((5 -4,6 -4,6 -5,5 -5,5 -4))\r\n",
      "  7 | 5 |  55 | POLYGON((6 -4,7 -4,7 -5,6 -5,6 -4))\r\n",
      "  8 | 5 |  56 | POLYGON((7 -4,8 -4,8 -5,7 -5,7 -4))\r\n",
      "  9 | 5 |  57 | POLYGON((8 -4,9 -4,9 -5,8 -5,8 -4))\r\n",
      " 10 | 5 |  58 | POLYGON((9 -4,10 -4,10 -5,9 -5,9 -4))\r\n",
      " 11 | 5 |  59 | POLYGON((10 -4,11 -4,11 -5,10 -5,10 -4))\r\n",
      " 12 | 5 |  60 | POLYGON((11 -4,12 -4,12 -5,11 -5,11 -4))\r\n",
      "  1 | 6 |  61 | POLYGON((0 -5,1 -5,1 -6,0 -6,0 -5))\r\n",
      "  2 | 6 |  62 | POLYGON((1 -5,2 -5,2 -6,1 -6,1 -5))\r\n",
      "  3 | 6 |  63 | POLYGON((2 -5,3 -5,3 -6,2 -6,2 -5))\r\n",
      "  4 | 6 |  64 | POLYGON((3 -5,4 -5,4 -6,3 -6,3 -5))\r\n",
      "  5 | 6 |  65 | POLYGON((4 -5,5 -5,5 -6,4 -6,4 -5))\r\n",
      "  6 | 6 |  66 | POLYGON((5 -5,6 -5,6 -6,5 -6,5 -5))\r\n",
      "  7 | 6 |  67 | POLYGON((6 -5,7 -5,7 -6,6 -6,6 -5))\r\n",
      "  8 | 6 |  68 | POLYGON((7 -5,8 -5,8 -6,7 -6,7 -5))\r\n",
      "  9 | 6 |  69 | POLYGON((8 -5,9 -5,9 -6,8 -6,8 -5))\r\n",
      " 10 | 6 |  70 | POLYGON((9 -5,10 -5,10 -6,9 -6,9 -5))\r\n",
      " 11 | 6 |  71 | POLYGON((10 -5,11 -5,11 -6,10 -6,10 -5))\r\n",
      " 12 | 6 |  72 | POLYGON((11 -5,12 -5,12 -6,11 -6,11 -5))\r\n",
      "  1 | 7 |  73 | POLYGON((0 -6,1 -6,1 -7,0 -7,0 -6))\r\n",
      "  2 | 7 |  74 | POLYGON((1 -6,2 -6,2 -7,1 -7,1 -6))\r\n",
      "  3 | 7 |  75 | POLYGON((2 -6,3 -6,3 -7,2 -7,2 -6))\r\n",
      "  4 | 7 |  76 | POLYGON((3 -6,4 -6,4 -7,3 -7,3 -6))\r\n",
      "  5 | 7 |  77 | POLYGON((4 -6,5 -6,5 -7,4 -7,4 -6))\r\n",
      "  6 | 7 |  78 | POLYGON((5 -6,6 -6,6 -7,5 -7,5 -6))\r\n",
      "  7 | 7 |  79 | POLYGON((6 -6,7 -6,7 -7,6 -7,6 -6))\r\n",
      "  8 | 7 |  80 | POLYGON((7 -6,8 -6,8 -7,7 -7,7 -6))\r\n",
      "  9 | 7 |  81 | POLYGON((8 -6,9 -6,9 -7,8 -7,8 -6))\r\n",
      " 10 | 7 |  82 | POLYGON((9 -6,10 -6,10 -7,9 -7,9 -6))\r\n",
      " 11 | 7 |  83 | POLYGON((10 -6,11 -6,11 -7,10 -7,10 -6))\r\n",
      " 12 | 7 |  84 | POLYGON((11 -6,12 -6,12 -7,11 -7,11 -6))\r\n",
      "  1 | 8 |  85 | POLYGON((0 -7,1 -7,1 -8,0 -8,0 -7))\r\n",
      "  2 | 8 |  86 | POLYGON((1 -7,2 -7,2 -8,1 -8,1 -7))\r\n",
      "  3 | 8 |  87 | POLYGON((2 -7,3 -7,3 -8,2 -8,2 -7))\r\n",
      "  4 | 8 |  88 | POLYGON((3 -7,4 -7,4 -8,3 -8,3 -7))\r\n",
      "  5 | 8 |  89 | POLYGON((4 -7,5 -7,5 -8,4 -8,4 -7))\r\n",
      "  6 | 8 |  90 | POLYGON((5 -7,6 -7,6 -8,5 -8,5 -7))\r\n",
      "  7 | 8 |  91 | POLYGON((6 -7,7 -7,7 -8,6 -8,6 -7))\r\n",
      "  8 | 8 |  92 | POLYGON((7 -7,8 -7,8 -8,7 -8,7 -7))\r\n",
      "  9 | 8 |  93 | POLYGON((8 -7,9 -7,9 -8,8 -8,8 -7))\r\n",
      " 10 | 8 |  94 | POLYGON((9 -7,10 -7,10 -8,9 -8,9 -7))\r\n",
      " 11 | 8 |  95 | POLYGON((10 -7,11 -7,11 -8,10 -8,10 -7))\r\n",
      " 12 | 8 |  96 | POLYGON((11 -7,12 -7,12 -8,11 -8,11 -7))\r\n",
      "(96 rows)\r\n",
      "\r\n"
     ]
    }
   ],
   "source": [
    "%%sql\n",
    "\n",
    "CREATE OR REPLACE FUNCTION myarray()\n",
    "  RETURNS double precision[][] AS\n",
    "\\$func\\$\n",
    "DECLARE\n",
    "    a double precision[][][8][12] := array_fill(0, ARRAY[8,12]);\n",
    "BEGIN\n",
    "\tFOR i IN 1..8 LOOP\n",
    "\t\tFOR j IN 1..12 LOOP\n",
    "\t\t\ta[i][j]= (i-1)*12 + j;\n",
    "\t\tEND LOOP;\n",
    "\tEND LOOP;\n",
    "   RETURN a;\n",
    "END\n",
    "\\$func\\$  LANGUAGE plpgsql;\n",
    "\n",
    "\n",
    "UPDATE base_raster\n",
    "SET rast = ST_SetValues(rast,1,1,1,myarray());\n",
    "\n",
    "SELECT (gv).x, (gv).y, (gv).val, ST_AsText((gv).geom) geom\n",
    "FROM (SELECT ST_PixelAsPolygons(rast) gv from base_raster)a\n"
   ]
  },
  {
   "cell_type": "code",
   "execution_count": 5,
   "metadata": {},
   "outputs": [
    {
     "name": "stdout",
     "output_type": "stream",
     "text": [
      "NOTICE:  drop cascades to 2 other objects\n",
      "DETAIL:  drop cascades to view patch_pixels\n",
      "drop cascades to view patch_tiles\n",
      "NOTICE:  Adding SRID constraint\n",
      "NOTICE:  Adding scale-X constraint\n",
      "NOTICE:  Adding scale-Y constraint\n",
      "NOTICE:  Adding blocksize-X constraint\n",
      "NOTICE:  Adding blocksize-Y constraint\n",
      "NOTICE:  Adding alignment constraint\n",
      "NOTICE:  Adding number of bands constraint\n",
      "NOTICE:  Adding pixel type constraint\n",
      "NOTICE:  Adding nodata value constraint\n",
      "NOTICE:  Adding out-of-database constraint\n",
      "NOTICE:  Adding maximum extent constraint\n",
      " x | y | val |                          geom                           \n",
      "---+---+-----+---------------------------------------------------------\n",
      " 1 | 1 | 101 | POLYGON((1.5 -1.5,2.5 -1.5,2.5 -2.5,1.5 -2.5,1.5 -1.5))\n",
      " 2 | 1 | 102 | POLYGON((2.5 -1.5,3.5 -1.5,3.5 -2.5,2.5 -2.5,2.5 -1.5))\n",
      " 3 | 1 | 103 | POLYGON((3.5 -1.5,4.5 -1.5,4.5 -2.5,3.5 -2.5,3.5 -1.5))\n",
      " 4 | 1 | 104 | POLYGON((4.5 -1.5,5.5 -1.5,5.5 -2.5,4.5 -2.5,4.5 -1.5))\n",
      " 1 | 2 | 105 | POLYGON((1.5 -2.5,2.5 -2.5,2.5 -3.5,1.5 -3.5,1.5 -2.5))\n",
      " 2 | 2 | 106 | POLYGON((2.5 -2.5,3.5 -2.5,3.5 -3.5,2.5 -3.5,2.5 -2.5))\n",
      " 3 | 2 | 107 | POLYGON((3.5 -2.5,4.5 -2.5,4.5 -3.5,3.5 -3.5,3.5 -2.5))\n",
      " 4 | 2 | 108 | POLYGON((4.5 -2.5,5.5 -2.5,5.5 -3.5,4.5 -3.5,4.5 -2.5))\n",
      " 1 | 3 | 109 | POLYGON((1.5 -3.5,2.5 -3.5,2.5 -4.5,1.5 -4.5,1.5 -3.5))\n",
      " 2 | 3 | 110 | POLYGON((2.5 -3.5,3.5 -3.5,3.5 -4.5,2.5 -4.5,2.5 -3.5))\n",
      " 3 | 3 | 111 | POLYGON((3.5 -3.5,4.5 -3.5,4.5 -4.5,3.5 -4.5,3.5 -3.5))\n",
      " 4 | 3 | 112 | POLYGON((4.5 -3.5,5.5 -3.5,5.5 -4.5,4.5 -4.5,4.5 -3.5))\n",
      " 1 | 4 | 113 | POLYGON((1.5 -4.5,2.5 -4.5,2.5 -5.5,1.5 -5.5,1.5 -4.5))\n",
      " 2 | 4 | 114 | POLYGON((2.5 -4.5,3.5 -4.5,3.5 -5.5,2.5 -5.5,2.5 -4.5))\n",
      " 3 | 4 | 115 | POLYGON((3.5 -4.5,4.5 -4.5,4.5 -5.5,3.5 -5.5,3.5 -4.5))\n",
      " 4 | 4 | 116 | POLYGON((4.5 -4.5,5.5 -4.5,5.5 -5.5,4.5 -5.5,4.5 -4.5))\n",
      "(16 rows)\n",
      "\n"
     ]
    }
   ],
   "source": [
    "%%sql\n",
    "\n",
    "DROP TABLE IF EXISTS patch CASCADE;\n",
    "\n",
    "CREATE TABLE patch(\n",
    "    rid SERIAL primary key,\n",
    "    rast raster\n",
    ");\n",
    "\n",
    "-- insert empty raster into the base_raster table\n",
    "\n",
    "INSERT INTO patch(rast)\n",
    "SELECT ST_AddBand( -- Returns a raster with the new band(s) of given type\n",
    "  ST_MakeEmptyRaster( -- Returns an empty raster (having no bands)\n",
    "      4, -- Raster width x (in pixels)\n",
    "      4, -- Raster width y (in pixels)\n",
    "      1.5, -- Upper left X coordinate\n",
    "      -1.5, -- Upper left Y coordinate\n",
    "      1, -- X Cell Resolution (in SRID units - in this case meters)\n",
    "      -1, -- Y Cell Resolution (in SRID units - in this case meters)\n",
    "      0, -- X skew\n",
    "      0, -- Y skew\n",
    "      3794 -- SRID\n",
    "    ),\n",
    "    \n",
    "    ARRAY [\n",
    "      ROW(\n",
    "        1,  -- band index\n",
    "        '8BUI'::text,  -- 8BUI - 8-bit unsigned integer (https://postgis.net/docs/RT_ST_BandPixelType.html)\n",
    "        3,  -- initial pixel value\n",
    "        0  -- NODATA value\n",
    "      )\n",
    "    ]::addbandarg[] -- a composite type used as input into the ST_AddBand function (https://postgis.net/docs/addbandarg.html)\n",
    ");\n",
    "\n",
    "SELECT AddRasterConstraints('patch'::name, 'rast'::name);\n",
    "\n",
    "CREATE OR REPLACE FUNCTION myarray2()\n",
    "  RETURNS double precision[][] AS\n",
    "\\$func\\$\n",
    "DECLARE\n",
    "    a double precision[][][4][4] := array_fill(0, ARRAY[4,4]);\n",
    "BEGIN\n",
    "\tFOR i IN 1..4 LOOP\n",
    "\t\tFOR j IN 1..4 LOOP\n",
    "\t\t\ta[i][j]= 100 + (i-1)*4 + j;\n",
    "\t\tEND LOOP;\n",
    "\tEND LOOP;\n",
    "   RETURN a;\n",
    "END\n",
    "\\$func\\$  LANGUAGE plpgsql;\n",
    "\n",
    "\n",
    " -- ST_SetValue(raster rast, integer columnx, integer rowy, double precision newvalue);\n",
    "\n",
    "UPDATE patch\n",
    "SET rast = ST_SetValues(rast,1,1,1,myarray2());\n",
    "\n",
    "SELECT (gv).x, (gv).y, (gv).val, ST_AsText((gv).geom) geom\n",
    "FROM (SELECT ST_PixelAsPolygons(rast) gv from patch)a"
   ]
  },
  {
   "cell_type": "code",
   "execution_count": 6,
   "metadata": {},
   "outputs": [
    {
     "name": "stdout",
     "output_type": "stream",
     "text": [
      "SELECT 12\r\n"
     ]
    }
   ],
   "source": [
    "%%sql\n",
    "\n",
    "-- tile the raster\n",
    "DROP TABLE IF EXISTS dtm CASCADE;\n",
    "SELECT (row_number() over ()) rid, rast into dtm from (SELECT ST_Tile(rast,3,3) rast from base_raster) a"
   ]
  },
  {
   "cell_type": "code",
   "execution_count": 7,
   "metadata": {},
   "outputs": [
    {
     "name": "stdout",
     "output_type": "stream",
     "text": [
      " visualize_tiles_and_pixels \r\n",
      "----------------------------\r\n",
      " \r\n",
      "(1 row)\r\n",
      "\r\n"
     ]
    }
   ],
   "source": [
    "%%sql\n",
    "\n",
    "SELECT visualize_tiles_and_pixels('dtm');\n",
    "SELECT visualize_tiles_and_pixels('patch');"
   ]
  }
 ],
 "metadata": {
  "kernelspec": {
   "display_name": "Python 3",
   "language": "python",
   "name": "python3"
  },
  "language_info": {
   "codemirror_mode": {
    "name": "ipython",
    "version": 3
   },
   "file_extension": ".py",
   "mimetype": "text/x-python",
   "name": "python",
   "nbconvert_exporter": "python",
   "pygments_lexer": "ipython3",
   "version": "3.6.8"
  }
 },
 "nbformat": 4,
 "nbformat_minor": 2
}
