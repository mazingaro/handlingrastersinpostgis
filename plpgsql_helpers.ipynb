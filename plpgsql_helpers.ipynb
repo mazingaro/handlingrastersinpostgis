{
 "cells": [
  {
   "cell_type": "code",
   "execution_count": 1,
   "metadata": {},
   "outputs": [],
   "source": [
    "%run sql_magics.ipynb"
   ]
  },
  {
   "cell_type": "code",
   "execution_count": 2,
   "metadata": {},
   "outputs": [
    {
     "name": "stdout",
     "output_type": "stream",
     "text": [
      "CREATE FUNCTION\r\n"
     ]
    }
   ],
   "source": [
    "%%sql\n",
    "\n",
    "CREATE OR REPLACE FUNCTION visualize_tiles_and_pixels(tname character varying)\n",
    "  RETURNS void AS\n",
    "\\$fun\\$\n",
    "BEGIN\n",
    "\n",
    "EXECUTE format('CREATE OR REPLACE VIEW %s_tiles AS SELECT rid, ST_Envelope(rast) from %s',tname,tname);\n",
    "\n",
    "EXECUTE format('CREATE OR REPLACE VIEW %s_pixels AS SELECT row_number() over (), geom from (SELECT (ST_PixelAsPolygons(rast,1,FALSE)).geom from %s) a',tname,tname);\n",
    "\t\n",
    "END\n",
    "\\$fun\\$  LANGUAGE plpgsql;"
   ]
  }
 ],
 "metadata": {
  "kernelspec": {
   "display_name": "Python 3",
   "language": "python",
   "name": "python3"
  },
  "language_info": {
   "codemirror_mode": {
    "name": "ipython",
    "version": 3
   },
   "file_extension": ".py",
   "mimetype": "text/x-python",
   "name": "python",
   "nbconvert_exporter": "python",
   "pygments_lexer": "ipython3",
   "version": "3.6.8"
  }
 },
 "nbformat": 4,
 "nbformat_minor": 2
}
